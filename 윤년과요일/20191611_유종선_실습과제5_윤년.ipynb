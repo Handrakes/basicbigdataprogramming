{
 "cells": [
  {
   "cell_type": "code",
   "execution_count": 3,
   "id": "621c9ff8",
   "metadata": {},
   "outputs": [
    {
     "name": "stdout",
     "output_type": "stream",
     "text": [
      "<generator object Test at 0x1072180b0>\n",
      "Start Test()\n",
      "0\n",
      "2\n",
      "4\n",
      "6\n",
      "8\n"
     ]
    }
   ],
   "source": [
    "def Test():\n",
    "    print(\"Start Test()\")\n",
    "    for x in range(5):\n",
    "        yield x+x\n",
    "        \n",
    "a = Test()\n",
    "for i in a:\n",
    "    print(i)"
   ]
  },
  {
   "cell_type": "code",
   "execution_count": 9,
   "id": "179031f4",
   "metadata": {},
   "outputs": [
    {
     "data": {
      "text/plain": [
       "'a'"
      ]
     },
     "execution_count": 9,
     "metadata": {},
     "output_type": "execute_result"
    }
   ],
   "source": [
    "def abc():\n",
    "    data = \"abc\"\n",
    "    for char in data:\n",
    "        yield char\n",
    "\n",
    "it = iter(abc())\n",
    "next(it)"
   ]
  },
  {
   "cell_type": "code",
   "execution_count": 10,
   "id": "3a7ba97a",
   "metadata": {},
   "outputs": [
    {
     "data": {
      "text/plain": [
       "'b'"
      ]
     },
     "execution_count": 10,
     "metadata": {},
     "output_type": "execute_result"
    }
   ],
   "source": [
    "next(it)"
   ]
  },
  {
   "cell_type": "code",
   "execution_count": 11,
   "id": "37d6e191",
   "metadata": {},
   "outputs": [
    {
     "data": {
      "text/plain": [
       "'c'"
      ]
     },
     "execution_count": 11,
     "metadata": {},
     "output_type": "execute_result"
    }
   ],
   "source": [
    "next(it)"
   ]
  },
  {
   "cell_type": "code",
   "execution_count": 12,
   "id": "f49ba283",
   "metadata": {},
   "outputs": [
    {
     "ename": "StopIteration",
     "evalue": "",
     "output_type": "error",
     "traceback": [
      "\u001b[0;31m---------------------------------------------------------------------------\u001b[0m",
      "\u001b[0;31mStopIteration\u001b[0m                             Traceback (most recent call last)",
      "Input \u001b[0;32mIn [12]\u001b[0m, in \u001b[0;36m<cell line: 1>\u001b[0;34m()\u001b[0m\n\u001b[0;32m----> 1\u001b[0m \u001b[38;5;28;43mnext\u001b[39;49m\u001b[43m(\u001b[49m\u001b[43mit\u001b[49m\u001b[43m)\u001b[49m\n",
      "\u001b[0;31mStopIteration\u001b[0m: "
     ]
    }
   ],
   "source": [
    "next(it)"
   ]
  },
  {
   "cell_type": "code",
   "execution_count": 94,
   "id": "c4c83f33",
   "metadata": {},
   "outputs": [
    {
     "name": "stdout",
     "output_type": "stream",
     "text": [
      "Overwriting year.py\n"
     ]
    }
   ],
   "source": [
    "%%writefile year.py\n",
    "\n",
    "def input_date():\n",
    "    year = int(input(\"__년도를 입력하시오 : \"))\n",
    "    month = int(input(\"__월을 입력하시오 : \"))\n",
    "    day = int(input(\"__일을 입력하시오 : \"))\n",
    "    return year, month, day\n",
    "\n",
    "def get_day_name(year, month, day):\n",
    "    num = 365 * (year - 1)\n",
    "    for i in range(1, year):\n",
    "        if is_leap(i):\n",
    "            num += 1\n",
    "            \n",
    "    if (month > 2 and is_leap(year)):\n",
    "        num += 1\n",
    "        \n",
    "    for i in range(1, month):\n",
    "        num += months[i-1]\n",
    "    \n",
    "    num += day\n",
    "    return num % 7\n",
    "    \n",
    "def is_leap(year) :\n",
    "    if (year % 4 == 0) and (year % 100 != 0) or (year % 400 == 0):\n",
    "        return 1\n",
    "    else :\n",
    "        return 0\n",
    "\n",
    "if __name__ == \"__main__\":\n",
    "    months = [31, 28, 31, 30, 31, 30, 31, 31, 30, 31, 30, 31]\n",
    "    days = [\"월요일\", \"화요일\", \"수요일\", \"목요일\", \"금요일\", \"토요일\", \"일요일\"]\n",
    "    year, month, day = input_date()\n",
    "    day_name = get_day_name(year, month, day)\n",
    "    \n",
    "    if is_leap(year) != 1 and month == 2 and day == 29:\n",
    "        print(\"입력하신 날짜는 존재하지 않습니다\")\n",
    "    elif is_leap(year) != 1:\n",
    "        print(days[day_name - 1])\n",
    "    else:\n",
    "        print(days[day_name - 1])\n",
    "        print(\"입력하신 %s는 윤년입니다\" %year)\n",
    "    \n",
    "    \n",
    "   "
   ]
  },
  {
   "cell_type": "code",
   "execution_count": 100,
   "id": "1f1b472c",
   "metadata": {},
   "outputs": [
    {
     "name": "stdout",
     "output_type": "stream",
     "text": [
      "__년도를 입력하시오 : 2021\n",
      "__월을 입력하시오 : 3\n",
      "__일을 입력하시오 : 23\n",
      "화요일\n"
     ]
    }
   ],
   "source": [
    "%run year"
   ]
  },
  {
   "cell_type": "code",
   "execution_count": null,
   "id": "ffebde65",
   "metadata": {},
   "outputs": [],
   "source": []
  }
 ],
 "metadata": {
  "kernelspec": {
   "display_name": "Python 3 (ipykernel)",
   "language": "python",
   "name": "python3"
  },
  "language_info": {
   "codemirror_mode": {
    "name": "ipython",
    "version": 3
   },
   "file_extension": ".py",
   "mimetype": "text/x-python",
   "name": "python",
   "nbconvert_exporter": "python",
   "pygments_lexer": "ipython3",
   "version": "3.9.13"
  }
 },
 "nbformat": 4,
 "nbformat_minor": 5
}
