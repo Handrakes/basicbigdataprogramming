{
 "cells": [
  {
   "cell_type": "code",
   "execution_count": null,
   "id": "eac9b26d",
   "metadata": {},
   "outputs": [],
   "source": []
  },
  {
   "cell_type": "code",
   "execution_count": null,
   "id": "54ce666e",
   "metadata": {},
   "outputs": [],
   "source": []
  },
  {
   "cell_type": "code",
   "execution_count": 1,
   "id": "682b2564",
   "metadata": {},
   "outputs": [
    {
     "data": {
      "text/plain": [
       "['In',\n",
       " 'Out',\n",
       " '_',\n",
       " '__',\n",
       " '___',\n",
       " '__builtin__',\n",
       " '__builtins__',\n",
       " '__doc__',\n",
       " '__loader__',\n",
       " '__name__',\n",
       " '__package__',\n",
       " '__spec__',\n",
       " '_dh',\n",
       " '_i',\n",
       " '_i1',\n",
       " '_ih',\n",
       " '_ii',\n",
       " '_iii',\n",
       " '_oh',\n",
       " 'exit',\n",
       " 'get_ipython',\n",
       " 'quit']"
      ]
     },
     "execution_count": 1,
     "metadata": {},
     "output_type": "execute_result"
    }
   ],
   "source": [
    "dir()"
   ]
  },
  {
   "cell_type": "code",
   "execution_count": 2,
   "id": "a4a062d3",
   "metadata": {},
   "outputs": [
    {
     "ename": "NameError",
     "evalue": "name 'os' is not defined",
     "output_type": "error",
     "traceback": [
      "\u001b[0;31m---------------------------------------------------------------------------\u001b[0m",
      "\u001b[0;31mNameError\u001b[0m                                 Traceback (most recent call last)",
      "Input \u001b[0;32mIn [2]\u001b[0m, in \u001b[0;36m<cell line: 1>\u001b[0;34m()\u001b[0m\n\u001b[0;32m----> 1\u001b[0m help(\u001b[43mos\u001b[49m)\n",
      "\u001b[0;31mNameError\u001b[0m: name 'os' is not defined"
     ]
    }
   ],
   "source": [
    "help(os)"
   ]
  },
  {
   "cell_type": "code",
   "execution_count": 3,
   "id": "e2df043e",
   "metadata": {},
   "outputs": [],
   "source": [
    "import sys"
   ]
  },
  {
   "cell_type": "code",
   "execution_count": 4,
   "id": "d4bd7428",
   "metadata": {},
   "outputs": [
    {
     "data": {
      "text/plain": [
       "module"
      ]
     },
     "execution_count": 4,
     "metadata": {},
     "output_type": "execute_result"
    }
   ],
   "source": [
    "type(sys)"
   ]
  },
  {
   "cell_type": "code",
   "execution_count": 5,
   "id": "319fdaf5",
   "metadata": {},
   "outputs": [
    {
     "data": {
      "text/plain": [
       "0.8414709848078965"
      ]
     },
     "execution_count": 5,
     "metadata": {},
     "output_type": "execute_result"
    }
   ],
   "source": [
    "from math import sin\n",
    "sin(1)"
   ]
  },
  {
   "cell_type": "code",
   "execution_count": 13,
   "id": "efcf7b32",
   "metadata": {},
   "outputs": [
    {
     "name": "stdout",
     "output_type": "stream",
     "text": [
      "Overwriting chan.py\n"
     ]
    }
   ],
   "source": [
    "%%writefile chan.py\n",
    "def str_count(string):\n",
    "    temp = {} ##딕셔너리 선언후 받을 준비\n",
    "    low_str = string.lower() ##전체 string 소문자로 변형\n",
    "    for i in low_str:\n",
    "        if i in temp:\n",
    "            temp[i] += 1\n",
    "        else:\n",
    "            temp[i] = 1\n",
    "    for i in temp:\n",
    "        print(\"(%c : %d) \" %(i,temp[i]),end = \"  \")    \n",
    "    print(\" \")\n",
    "    \n",
    "def str_change(string):\n",
    "    for i in string:\n",
    "        a = ord(i)\n",
    "        if a < 96: ##소문자 -> 대문자\n",
    "            print(\"%c\" %chr(a+32) ,end = \"\")\n",
    "        else: ##대문자 -> 소문자\n",
    "            print(\"%c\" %chr(a-32), end = \"\")\n",
    "    print(\" \")\n",
    "\n",
    "if __name__ == \"__main__\":\n",
    "    while (1):\n",
    "        input_str = input(\"Input: \")\n",
    "        if input_str != \"STOP\":\n",
    "            str_count(input_str)\n",
    "            str_change(input_str)\n",
    "        else :\n",
    "            break\n",
    "    print(\"Bye\")\n",
    "\n"
   ]
  },
  {
   "cell_type": "code",
   "execution_count": 14,
   "id": "fff25b45",
   "metadata": {},
   "outputs": [
    {
     "name": "stdout",
     "output_type": "stream",
     "text": [
      "Input: Sogang\n",
      "(s : 1)   (o : 1)   (g : 2)   (a : 1)   (n : 1)    \n",
      "sOGANG \n",
      "Input: SOGANG\n",
      "(s : 1)   (o : 1)   (g : 2)   (a : 1)   (n : 1)    \n",
      "sogang \n",
      "Input: Univ\n",
      "(u : 1)   (n : 1)   (i : 1)   (v : 1)    \n",
      "uNIV \n",
      "Input: TEL\n",
      "(t : 1)   (e : 1)   (l : 1)    \n",
      "tel \n",
      "Input: STOP\n",
      "Bye\n"
     ]
    }
   ],
   "source": [
    "%run chan.py"
   ]
  },
  {
   "cell_type": "code",
   "execution_count": 1,
   "id": "0fe054f8",
   "metadata": {},
   "outputs": [
    {
     "name": "stdout",
     "output_type": "stream",
     "text": [
      "Input: Sogang\n",
      "(s : 1)   (o : 1)   (g : 2)   (a : 1)   (n : 1)    \n",
      "sOGANG \n",
      "Input: SOGANG\n",
      "(s : 1)   (o : 1)   (g : 2)   (a : 1)   (n : 1)    \n",
      "sogang \n",
      "Input: Univ\n",
      "(u : 1)   (n : 1)   (i : 1)   (v : 1)    \n",
      "uNIV \n",
      "Input: Tel\n",
      "(t : 1)   (e : 1)   (l : 1)    \n",
      "tEL \n",
      "Input: STOP\n",
      "Bye\n"
     ]
    }
   ],
   "source": [
    "%run chan.py"
   ]
  },
  {
   "cell_type": "code",
   "execution_count": 2,
   "id": "2b692c07",
   "metadata": {},
   "outputs": [
    {
     "name": "stdout",
     "output_type": "stream",
     "text": [
      "def str_count(string):\r\n",
      "    temp = {} ##딕셔너리 선언후 받을 준비\r\n",
      "    low_str = string.lower() ##전체 string 소문자로 변형\r\n",
      "    for i in low_str:\r\n",
      "        if i in temp:\r\n",
      "            temp[i] += 1\r\n",
      "        else:\r\n",
      "            temp[i] = 1\r\n",
      "    for i in temp:\r\n",
      "        print(\"(%c : %d) \" %(i,temp[i]),end = \"  \")    \r\n",
      "    print(\" \")\r\n",
      "    \r\n",
      "def str_change(string):\r\n",
      "    for i in string:\r\n",
      "        a = ord(i)\r\n",
      "        if a < 96: ##소문자 -> 대문자\r\n",
      "            print(\"%c\" %chr(a+32) ,end = \"\")\r\n",
      "        else: ##대문자 -> 소문자\r\n",
      "            print(\"%c\" %chr(a-32), end = \"\")\r\n",
      "    print(\" \")\r\n",
      "\r\n",
      "if __name__ == \"__main__\":\r\n",
      "    while (1):\r\n",
      "        input_str = input(\"Input: \")\r\n",
      "        if input_str != \"STOP\":\r\n",
      "            str_count(input_str)\r\n",
      "            str_change(input_str)\r\n",
      "        else :\r\n",
      "            break\r\n",
      "    print(\"Bye\")\r\n",
      "\r\n"
     ]
    }
   ],
   "source": [
    "%cat chan.py"
   ]
  },
  {
   "cell_type": "code",
   "execution_count": null,
   "id": "5ba1ab4b",
   "metadata": {},
   "outputs": [],
   "source": []
  }
 ],
 "metadata": {
  "kernelspec": {
   "display_name": "Python 3 (ipykernel)",
   "language": "python",
   "name": "python3"
  },
  "language_info": {
   "codemirror_mode": {
    "name": "ipython",
    "version": 3
   },
   "file_extension": ".py",
   "mimetype": "text/x-python",
   "name": "python",
   "nbconvert_exporter": "python",
   "pygments_lexer": "ipython3",
   "version": "3.9.13"
  }
 },
 "nbformat": 4,
 "nbformat_minor": 5
}
