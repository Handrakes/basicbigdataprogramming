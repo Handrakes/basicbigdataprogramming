{
 "cells": [
  {
   "cell_type": "code",
   "execution_count": 10,
   "id": "4159a9b6",
   "metadata": {},
   "outputs": [
    {
     "name": "stdout",
     "output_type": "stream",
     "text": [
      "점수를 입력하시오 : -1\n",
      "점수는 0점에서 100점 사이의 값이어야 합니다.\n"
     ]
    }
   ],
   "source": [
    "class scoreExcep(Exception):\n",
    "    def __init__(self, score):\n",
    "        self.score = score\n",
    "        \n",
    "def input_score():\n",
    "    scores = int(input(\"점수를 입력하시오 : \"))\n",
    "    if scores < 0 or scores > 100:\n",
    "        raise scoreExcep(\"점수는 0점에서 100점 사이의 값이어야 합니다.\")\n",
    "    else:\n",
    "        return scores\n",
    "    \n",
    "    \n",
    "if __name__ == \"__main__\":\n",
    "    try:\n",
    "        score = input_score()\n",
    "    except scoreExcep as s:\n",
    "        print(s.args[0])\n",
    "\n",
    "    else:\n",
    "        print(\"점수는 %d입니다\" %(score))\n",
    "        "
   ]
  },
  {
   "cell_type": "code",
   "execution_count": 5,
   "id": "b1dc68fa",
   "metadata": {},
   "outputs": [
    {
     "name": "stdout",
     "output_type": "stream",
     "text": [
      "Overwriting list_index.py\n"
     ]
    }
   ],
   "source": [
    "%%writefile list_index.py\n",
    "\n",
    "def input_index():\n",
    "    ix = int(input(\"input : \"))\n",
    "    return ix\n",
    "\n",
    "while(1):\n",
    "    num = [0, 1, 2, 3, 4, 5, 6, 7, 8, 9, 10]\n",
    "    try:\n",
    "        t = input_index()\n",
    "        k = num[t]\n",
    "        if t < 0:\n",
    "            raise IndexError\n",
    "    except IndexError:\n",
    "        print(-1)\n",
    "    except ValueError:\n",
    "        print(\"프로그램을 종료합니다\")\n",
    "        break\n",
    "    else:\n",
    "        print(k)\n",
    "    "
   ]
  },
  {
   "cell_type": "code",
   "execution_count": 11,
   "id": "599e8b79",
   "metadata": {},
   "outputs": [
    {
     "name": "stdout",
     "output_type": "stream",
     "text": [
      "input : 0\n",
      "0\n",
      "input : 1\n",
      "1\n",
      "input : 2\n",
      "2\n",
      "input : 3\n",
      "3\n",
      "input : 4\n",
      "4\n",
      "input : 5\n",
      "5\n",
      "input : 6\n",
      "6\n",
      "input : 7\n",
      "7\n",
      "input : 8\n",
      "8\n",
      "input : 9\n",
      "9\n",
      "input : 10\n",
      "10\n",
      "input : -1\n",
      "-1\n",
      "input : 13\n",
      "-1\n",
      "input : Ctrl+C\n",
      "프로그램을 종료합니다\n"
     ]
    }
   ],
   "source": [
    "%run list_index.py"
   ]
  },
  {
   "cell_type": "code",
   "execution_count": null,
   "id": "9c814643",
   "metadata": {},
   "outputs": [],
   "source": []
  }
 ],
 "metadata": {
  "kernelspec": {
   "display_name": "Python 3 (ipykernel)",
   "language": "python",
   "name": "python3"
  },
  "language_info": {
   "codemirror_mode": {
    "name": "ipython",
    "version": 3
   },
   "file_extension": ".py",
   "mimetype": "text/x-python",
   "name": "python",
   "nbconvert_exporter": "python",
   "pygments_lexer": "ipython3",
   "version": "3.9.13"
  }
 },
 "nbformat": 4,
 "nbformat_minor": 5
}
