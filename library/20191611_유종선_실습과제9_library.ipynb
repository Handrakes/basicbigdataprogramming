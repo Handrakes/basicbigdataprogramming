{
 "cells": [
  {
   "cell_type": "code",
   "execution_count": 1,
   "id": "57603001",
   "metadata": {},
   "outputs": [
    {
     "data": {
      "text/plain": [
       "'posix'"
      ]
     },
     "execution_count": 1,
     "metadata": {},
     "output_type": "execute_result"
    }
   ],
   "source": [
    "import os\n",
    "os.name"
   ]
  },
  {
   "cell_type": "code",
   "execution_count": 2,
   "id": "542a886d",
   "metadata": {},
   "outputs": [
    {
     "name": "stderr",
     "output_type": "stream",
     "text": [
      "UsageError: %%writefile is a cell magic, but the cell body is empty.\n"
     ]
    }
   ],
   "source": [
    "%%writefile leapArg.py"
   ]
  },
  {
   "cell_type": "code",
   "execution_count": 2,
   "id": "9f70d4b5",
   "metadata": {},
   "outputs": [
    {
     "name": "stdout",
     "output_type": "stream",
     "text": [
      "Overwriting leapArg.py\n"
     ]
    }
   ],
   "source": [
    "%%writefile leapArg.py\n",
    "\n",
    "import sys\n",
    "\n",
    "def input_date():\n",
    "    year = int(sys.argv[1])\n",
    "    month = int(sys.argv[2])\n",
    "    day = int(sys.argv[3])\n",
    "    return year, month, day\n",
    "\n",
    "def get_day_name(year, month, day):\n",
    "    num = 365 * (year - 1)\n",
    "    for i in range(1, year):\n",
    "        if is_leap(i):\n",
    "            num += 1\n",
    "            \n",
    "    if (month > 2 and is_leap(year)):\n",
    "        num += 1\n",
    "        \n",
    "    for i in range(1, month):\n",
    "        num += months[i-1]\n",
    "    \n",
    "    num += day\n",
    "    return num % 7\n",
    "    \n",
    "def is_leap(year) :\n",
    "    if (year % 4 == 0) and (year % 100 != 0) or (year % 400 == 0):\n",
    "        return 1\n",
    "    else :\n",
    "        return 0\n",
    "\n",
    "if __name__ == \"__main__\":\n",
    "    months = [31, 28, 31, 30, 31, 30, 31, 31, 30, 31, 30, 31]\n",
    "    days = [\"월요일\", \"화요일\", \"수요일\", \"목요일\", \"금요일\", \"토요일\", \"일요일\"]\n",
    "    year, month, day = input_date()\n",
    "    day_name = get_day_name(year, month, day)\n",
    "    \n",
    "    if is_leap(year) != 1 and month == 2 and day >= 29:\n",
    "        print(\"입력하신 날짜는 존재하지 않습니다\")\n",
    "    elif day >= 32:\n",
    "        print(\"입력하신 날짜는 존재하지 않습니다\")\n",
    "    elif is_leap(year) != 1:\n",
    "        print(days[day_name - 1])\n",
    "    else:\n",
    "        print(days[day_name - 1])\n",
    "        print(\"입력하신 %s는 윤년입니다\" %year)"
   ]
  },
  {
   "cell_type": "code",
   "execution_count": 3,
   "id": "dc305ac5",
   "metadata": {},
   "outputs": [
    {
     "name": "stdout",
     "output_type": "stream",
     "text": [
      "목요일\n"
     ]
    }
   ],
   "source": [
    "%run leapArg.py 2023 5 4"
   ]
  },
  {
   "cell_type": "code",
   "execution_count": 4,
   "id": "70bd09fa",
   "metadata": {},
   "outputs": [
    {
     "name": "stdout",
     "output_type": "stream",
     "text": [
      "-1.6351885780427125e-13\n",
      "2.939601270583009e+48\n",
      "1.0\n"
     ]
    }
   ],
   "source": [
    "import math\n",
    "# 2000/log(20)*sin(2pi)\n",
    "print(2000/math.log(20) * math.sin(2 * math.pi))\n",
    "\n",
    "# 3^100 * log(300)\n",
    "print(math.pow(3,100) * math.log(300))\n",
    "\n",
    "# sin(45)*root2\n",
    "print(math.sin(math.radians(45)) * math.pow(2,0.5))"
   ]
  },
  {
   "cell_type": "code",
   "execution_count": 7,
   "id": "b473bb2a",
   "metadata": {},
   "outputs": [
    {
     "name": "stdout",
     "output_type": "stream",
     "text": [
      "가위, 바위, 보 중 하나를 선택하시오: 보\n",
      "컴퓨터: 가위\n",
      "컴퓨터가 이겼습니다.\n"
     ]
    }
   ],
   "source": [
    "import random\n",
    "\n",
    "if __name__ == \"__main__\":\n",
    "    rps = {1: '가위', 2:'바위', 3:'보'}\n",
    "    ins = input(\"가위, 바위, 보 중 하나를 선택하시오: \")\n",
    "    for x in range(1,4):\n",
    "        if(rps[x] == ins):\n",
    "            player = x\n",
    "    \n",
    "    computer = random.randint(1,3)\n",
    "    print(\"컴퓨터: \" + rps[computer])\n",
    "    if(player == computer):\n",
    "        print(\"비겼습니다.\")\n",
    "    elif(player == 1): #player = 가위\n",
    "        if(computer == 2): \n",
    "            print(\"컴퓨터가 이겼습니다.\")\n",
    "        else:\n",
    "            print(\"당신이 이겼습니다.\")\n",
    "    elif(player == 2): #player = 바위\n",
    "        if(computer == 3):\n",
    "            print(\"컴퓨터가 이겼습니다.\")\n",
    "        else:\n",
    "            print(\"당신이 이겼습니다.\")\n",
    "    elif(player == 3): #player = 보\n",
    "        if(computer == 1):\n",
    "            print(\"컴퓨터가 이겼습니다.\")\n",
    "        else:\n",
    "            print(\"당신이 이겼습니다.\")\n",
    "    else:\n",
    "        print(\"잘못된 계산입니다. 프로그램을 재실행하세요\")\n",
    "    \n",
    "    "
   ]
  },
  {
   "cell_type": "code",
   "execution_count": null,
   "id": "f0685e1d",
   "metadata": {},
   "outputs": [],
   "source": []
  }
 ],
 "metadata": {
  "kernelspec": {
   "display_name": "Python 3 (ipykernel)",
   "language": "python",
   "name": "python3"
  },
  "language_info": {
   "codemirror_mode": {
    "name": "ipython",
    "version": 3
   },
   "file_extension": ".py",
   "mimetype": "text/x-python",
   "name": "python",
   "nbconvert_exporter": "python",
   "pygments_lexer": "ipython3",
   "version": "3.9.13"
  }
 },
 "nbformat": 4,
 "nbformat_minor": 5
}
