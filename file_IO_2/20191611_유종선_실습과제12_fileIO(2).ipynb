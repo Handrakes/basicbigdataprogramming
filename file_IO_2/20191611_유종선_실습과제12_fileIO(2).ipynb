{
 "cells": [
  {
   "cell_type": "code",
   "execution_count": 1,
   "id": "c957c642",
   "metadata": {},
   "outputs": [],
   "source": [
    "f = open(\"information.txt\", \"wt\")\n",
    "f.write(\"3\\n\")\n",
    "f.write(\"3.14\\n\")\n",
    "f.write(\"\\\"3.14\\\"\\n\")\n",
    "f.close()"
   ]
  },
  {
   "cell_type": "code",
   "execution_count": 2,
   "id": "c1874cce",
   "metadata": {},
   "outputs": [
    {
     "name": "stdout",
     "output_type": "stream",
     "text": [
      "3\n",
      "3.14\n",
      "\"3.14\"\n"
     ]
    }
   ],
   "source": [
    "f2 = open(\"information.txt\", \"rt\", encoding=\"utf-8\")\n",
    "result = f2.readlines()\n",
    "for i in range(len(result)):\n",
    "    print(result[i], end = \"\")"
   ]
  },
  {
   "cell_type": "code",
   "execution_count": 7,
   "id": "b6f56c52",
   "metadata": {},
   "outputs": [],
   "source": [
    "import pickle\n",
    "if __name__ == \"__main__\":\n",
    "    f3 = open(\"information.dat\", \"bw+\")\n",
    "    pickle.dump(3, f3)\n",
    "    pickle.dump(3.14, f3)\n",
    "    pickle.dump(\"\\\"3.14\\\"\", f3)"
   ]
  },
  {
   "cell_type": "code",
   "execution_count": 8,
   "id": "6952a0f2",
   "metadata": {},
   "outputs": [
    {
     "name": "stdout",
     "output_type": "stream",
     "text": [
      "3\n",
      "3.14\n",
      "\"3.14\"\n"
     ]
    }
   ],
   "source": [
    "import pickle\n",
    "if __name__ == \"__main__\":\n",
    "    f4 = open(\"information.dat\", \"br+\")\n",
    "    print(pickle.load(f4))\n",
    "    print(pickle.load(f4))\n",
    "    print(pickle.load(f4))\n",
    "    \n",
    "    f4.close()"
   ]
  },
  {
   "cell_type": "code",
   "execution_count": null,
   "id": "78584cfa",
   "metadata": {},
   "outputs": [],
   "source": []
  }
 ],
 "metadata": {
  "kernelspec": {
   "display_name": "Python 3 (ipykernel)",
   "language": "python",
   "name": "python3"
  },
  "language_info": {
   "codemirror_mode": {
    "name": "ipython",
    "version": 3
   },
   "file_extension": ".py",
   "mimetype": "text/x-python",
   "name": "python",
   "nbconvert_exporter": "python",
   "pygments_lexer": "ipython3",
   "version": "3.9.16"
  }
 },
 "nbformat": 4,
 "nbformat_minor": 5
}
