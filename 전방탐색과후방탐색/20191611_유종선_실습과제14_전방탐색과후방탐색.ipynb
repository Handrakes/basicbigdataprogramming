{
 "cells": [
  {
   "cell_type": "code",
   "execution_count": 11,
   "id": "7fd5c110",
   "metadata": {},
   "outputs": [
    {
     "name": "stdout",
     "output_type": "stream",
     "text": [
      "Seo Maria's Homepage\n"
     ]
    }
   ],
   "source": [
    "import re\n",
    "data = \"\"\"\n",
    "<HEAD>\n",
    "<TITLE>Seo Maria's Homepage</TITLE>\n",
    "</HEAD>\n",
    "\"\"\"\n",
    "a = re.compile(\"(?<=\\<[tT][iI][tT][lL][eE]\\>).+(?=\\<\\/[tT][iI][tT][lL][eE]\\>)\")\n",
    "result = a.search(data)\n",
    "print(result.group())"
   ]
  },
  {
   "cell_type": "code",
   "execution_count": 4,
   "id": "cb252f10",
   "metadata": {},
   "outputs": [
    {
     "name": "stdout",
     "output_type": "stream",
     "text": [
      "foo.bar sendmail.cf checksum.exe \n",
      "\n",
      "foo.bar sendmail.cf "
     ]
    }
   ],
   "source": [
    "import re\n",
    "filename = (\n",
    "\"foo.bar\", \"qutoexec.bat\",\"sendmail.cf\",\"checksum.exe\"\n",
    ")\n",
    "\n",
    "a = re.compile('.+[^bat]$')\n",
    "\n",
    "for i in filename:\n",
    "    b = a.search(i)\n",
    "    if b:\n",
    "        print(b.group(), end = \" \")\n",
    "        \n",
    "print('\\n')\n",
    "\n",
    "c = re.compile('.+[^bat|^exe]$')\n",
    "for i in filename:\n",
    "    d = c.search(i)\n",
    "    if d:\n",
    "        print(d.group(), end = \" \")"
   ]
  },
  {
   "cell_type": "code",
   "execution_count": null,
   "id": "978d3441",
   "metadata": {},
   "outputs": [],
   "source": []
  }
 ],
 "metadata": {
  "kernelspec": {
   "display_name": "Python 3 (ipykernel)",
   "language": "python",
   "name": "python3"
  },
  "language_info": {
   "codemirror_mode": {
    "name": "ipython",
    "version": 3
   },
   "file_extension": ".py",
   "mimetype": "text/x-python",
   "name": "python",
   "nbconvert_exporter": "python",
   "pygments_lexer": "ipython3",
   "version": "3.9.13"
  }
 },
 "nbformat": 4,
 "nbformat_minor": 5
}
