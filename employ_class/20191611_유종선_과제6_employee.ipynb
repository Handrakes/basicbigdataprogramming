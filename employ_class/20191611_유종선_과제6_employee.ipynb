{
 "cells": [
  {
   "cell_type": "code",
   "execution_count": 13,
   "id": "d33e6ecc",
   "metadata": {},
   "outputs": [
    {
     "name": "stdout",
     "output_type": "stream",
     "text": [
      "A\n",
      "B\n",
      "C\n",
      "D\n"
     ]
    }
   ],
   "source": [
    "class A:\n",
    "    def __init__(self):\n",
    "        print(\"A\")\n",
    "        \n",
    "class B(A):\n",
    "    def __init__(self):\n",
    "        super().__init__()\n",
    "        print(\"B\")\n",
    "\n",
    "class C(A):\n",
    "    def __init__(self):\n",
    "        super().__init__()\n",
    "        print(\"C\")\n",
    "        \n",
    "class D(C,B):\n",
    "    def __init__(self):\n",
    "        super().__init__() ##부모 클래스의 init메소드를 자식 init에서 사용\n",
    "        print(\"D\")\n",
    "    \n",
    "object_D = D()"
   ]
  },
  {
   "cell_type": "code",
   "execution_count": 14,
   "id": "4639c291",
   "metadata": {},
   "outputs": [
    {
     "data": {
      "text/plain": [
       "(__main__.D, __main__.C, __main__.B, __main__.A, object)"
      ]
     },
     "execution_count": 14,
     "metadata": {},
     "output_type": "execute_result"
    }
   ],
   "source": [
    "D.__mro__"
   ]
  },
  {
   "cell_type": "code",
   "execution_count": null,
   "id": "123c7b86",
   "metadata": {},
   "outputs": [],
   "source": []
  },
  {
   "cell_type": "code",
   "execution_count": 5,
   "id": "e61cc323",
   "metadata": {},
   "outputs": [
    {
     "name": "stdout",
     "output_type": "stream",
     "text": [
      "[2023-04-27 04:00]\n",
      "반갑습니다. 여기는 카발란 증류소입니다.\n",
      "저희는 위스키를 생산합니다.\n",
      "회장님 성함은 이원창입니다.\n",
      "\n",
      "\n",
      "이름은 채태인이고, 나이는 25살 입니다.\n",
      "급여는 100,000$이고, 입사일은 2023년 3월 23일이고, 저의 직급은 사원입니다.\n",
      "이름은 박한이이고, 나이는 32살 입니다.\n",
      "급여는 200,000$이고, 입사일은 2013년 4월 25일이고, 저의 직급은 과장입니다.\n",
      "이름은 김해진이고, 나이는 29살 입니다.\n",
      "급여는 150,000$이고, 입사일은 2018년 8월 9일이고, 저의 직급은 대리입니다.\n",
      "이름은 김창수이고, 나이는 40살 입니다.\n",
      "급여는 400,000$이고, 입사일은 2000년 1월 30일이고, 저의 직급은 부장입니다.\n",
      "\n",
      "상품 목록입니다.\n",
      "상품 이름은 비노바리끄입니다\n",
      "도수는 62.1이고, 가격은 $230입니다\n",
      "상품 이름은 PX 쉐리입니다\n",
      "도수는 57.8이고, 가격은 $200입니다\n",
      "상품 이름은 아몬틸라도입니다\n",
      "도수는 61.8이고, 가격은 $320입니다\n",
      "\n",
      "실행시간은 :  0.00018787384033203125\n"
     ]
    }
   ],
   "source": [
    "import datetime\n",
    "import time\n",
    "    \n",
    "\n",
    "class Person:\n",
    "    def __init__(self, name, age, sex):\n",
    "        self.Name = name\n",
    "        self.Age = age\n",
    "        self.Sex = sex\n",
    "    \n",
    "    def aboutMe(self):\n",
    "        print(\"이름은 \" + self.Name + \"이고, 나이는 \" + self.Age + \"살 입니다.\")\n",
    "        \n",
    "class Employee(Person):\n",
    "    def __init__(self, name, age, sex, salary, hiredate, position):\n",
    "        Person.__init__(self, name, age, sex)\n",
    "        self.Salary = salary\n",
    "        self.Hiredate = hiredate\n",
    "        self.Position = position\n",
    "        \n",
    "    def aboutMe(self):\n",
    "        Person.aboutMe(self)\n",
    "        print(\"급여는 \" + self.Salary + \"이고, 입사일은 \" + self.Hiredate + \"이고, 저의 직급은 \" + self.Position + \"입니다.\")\n",
    "        \n",
    "class Corps:\n",
    "    def __init__(self, func):\n",
    "        dt = datetime.datetime.now()\n",
    "        print(dt.strftime(\"[%Y-%m-%d %I:%M]\"))\n",
    "        print(\"반갑습니다. 여기는 카발란 증류소입니다.\")\n",
    "        self.func = func\n",
    "        \n",
    "    def __call__(self, product):\n",
    "        self.func(product)\n",
    "        print(\"회장님 성함은 이원창입니다.\")\n",
    "\n",
    "@Corps\n",
    "def my_func(product):\n",
    "    print(\"저희는 \" + product + \"를 생산합니다.\")\n",
    "\n",
    "class Line:\n",
    "    def __init__(self, name):\n",
    "        self.Name = name\n",
    "        \n",
    "class Product(Line):\n",
    "    def __init__(self, name, proof, price):\n",
    "        Line.__init__(self, name)\n",
    "        self.Proof = proof\n",
    "        self.Price = price\n",
    "        \n",
    "    def aboutProduct(self):\n",
    "        print(\"상품 이름은 \" + self.Name + \"입니다\")\n",
    "        print(\"도수는 \" + self.Proof + \"이고, 가격은 \" + self.Price + \"입니다\")\n",
    "        \n",
    "if __name__ == \"__main__\":\n",
    "    start_time = time.time()\n",
    "    my_func(\"위스키\")\n",
    "    print(\"\\n\")\n",
    "    employee1 = Employee(\"채태인\", \"25\", \"남\", \"100,000$\", \"2023년 3월 23일\", \"사원\")\n",
    "    employee2 = Employee(\"박한이\", \"32\", \"남\", \"200,000$\", \"2013년 4월 25일\", \"과장\")\n",
    "    employee3 = Employee(\"김해진\", \"29\", \"여\", \"150,000$\", \"2018년 8월 9일\", \"대리\")\n",
    "    employee4 = Employee(\"김창수\", \"40\", \"남\", \"400,000$\", \"2000년 1월 30일\", \"부장\")\n",
    "    employee1.aboutMe()\n",
    "    employee2.aboutMe()\n",
    "    employee3.aboutMe()\n",
    "    employee4.aboutMe()\n",
    "    print(\"\\n상품 목록입니다.\")\n",
    "    p1 = Product(\"비노바리끄\", \"62.1\", \"$230\")\n",
    "    p1.aboutProduct()\n",
    "    p2 = Product(\"PX 쉐리\", \"57.8\", \"$200\")\n",
    "    p2.aboutProduct()\n",
    "    p3 = Product(\"아몬틸라도\", \"61.8\", \"$320\")\n",
    "    p3.aboutProduct()\n",
    "    print(\"\\n실행시간은 : \", time.time() - start_time)\n",
    "    \n"
   ]
  },
  {
   "cell_type": "code",
   "execution_count": null,
   "id": "a03a5baf",
   "metadata": {},
   "outputs": [],
   "source": []
  }
 ],
 "metadata": {
  "kernelspec": {
   "display_name": "Python 3 (ipykernel)",
   "language": "python",
   "name": "python3"
  },
  "language_info": {
   "codemirror_mode": {
    "name": "ipython",
    "version": 3
   },
   "file_extension": ".py",
   "mimetype": "text/x-python",
   "name": "python",
   "nbconvert_exporter": "python",
   "pygments_lexer": "ipython3",
   "version": "3.9.13"
  }
 },
 "nbformat": 4,
 "nbformat_minor": 5
}
