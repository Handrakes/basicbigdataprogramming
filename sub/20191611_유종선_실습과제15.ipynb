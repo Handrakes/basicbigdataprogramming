{
 "cells": [
  {
   "cell_type": "code",
   "execution_count": 1,
   "id": "6c8333aa",
   "metadata": {},
   "outputs": [
    {
     "data": {
      "text/plain": [
       "'Please, square the following nnumbers, 9 49 121 169 289 361'"
      ]
     },
     "execution_count": 1,
     "metadata": {},
     "output_type": "execute_result"
    }
   ],
   "source": [
    "import re\n",
    "\n",
    "def after(match):\n",
    "    value = int(match.group())\n",
    "    value *= value\n",
    "    result = str(value)\n",
    "    return result\n",
    "        \n",
    "p = re.compile(r'\\d+')\n",
    "p.sub(after, \"Please, square the following nnumbers, 3 7 11 13 17 19\")"
   ]
  },
  {
   "cell_type": "code",
   "execution_count": null,
   "id": "6c9f7371",
   "metadata": {},
   "outputs": [],
   "source": []
  }
 ],
 "metadata": {
  "kernelspec": {
   "display_name": "Python 3 (ipykernel)",
   "language": "python",
   "name": "python3"
  },
  "language_info": {
   "codemirror_mode": {
    "name": "ipython",
    "version": 3
   },
   "file_extension": ".py",
   "mimetype": "text/x-python",
   "name": "python",
   "nbconvert_exporter": "python",
   "pygments_lexer": "ipython3",
   "version": "3.9.16"
  }
 },
 "nbformat": 4,
 "nbformat_minor": 5
}
