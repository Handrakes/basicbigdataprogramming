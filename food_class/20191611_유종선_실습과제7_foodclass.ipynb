{
 "cells": [
  {
   "cell_type": "code",
   "execution_count": 2,
   "id": "d7ae56d5",
   "metadata": {},
   "outputs": [
    {
     "name": "stdout",
     "output_type": "stream",
     "text": [
      "True\n",
      "8000\n"
     ]
    }
   ],
   "source": [
    "class Food(object):\n",
    "    def __init__(self, name, price):\n",
    "        self.name = name\n",
    "        self.price = price\n",
    "        \n",
    "    def __lt__(self, other):\n",
    "        return self.price < other.price\n",
    "    \n",
    "    def __add__(self, other):\n",
    "        return self.price + other.price\n",
    "\n",
    "    \n",
    "    \n",
    "\n",
    "food_3 = Food('아이스크림', 3000)\n",
    "food_2 = Food('햄버거', 5000)\n",
    "print(food_3 < food_2)\n",
    "print(food_2 + food_3)"
   ]
  },
  {
   "cell_type": "code",
   "execution_count": null,
   "id": "aa26c7e0",
   "metadata": {},
   "outputs": [],
   "source": []
  }
 ],
 "metadata": {
  "kernelspec": {
   "display_name": "Python 3 (ipykernel)",
   "language": "python",
   "name": "python3"
  },
  "language_info": {
   "codemirror_mode": {
    "name": "ipython",
    "version": 3
   },
   "file_extension": ".py",
   "mimetype": "text/x-python",
   "name": "python",
   "nbconvert_exporter": "python",
   "pygments_lexer": "ipython3",
   "version": "3.9.13"
  }
 },
 "nbformat": 4,
 "nbformat_minor": 5
}
