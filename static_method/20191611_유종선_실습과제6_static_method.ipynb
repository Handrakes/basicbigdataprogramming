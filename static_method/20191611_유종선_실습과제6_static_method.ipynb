{
 "cells": [
  {
   "cell_type": "code",
   "execution_count": 1,
   "id": "b09a44ce",
   "metadata": {},
   "outputs": [
    {
     "name": "stdout",
     "output_type": "stream",
     "text": [
      "date: 2022, 4, 7\n",
      "date: today\n",
      "date: 2022, 4, 6\n",
      "------------------------\n",
      "date: 2022, 4, 7\n",
      "date: today\n",
      "date: 2022, 4, 6\n"
     ]
    }
   ],
   "source": [
    "import time\n",
    "\n",
    "class Date(object):\n",
    "    def __init__(self, date):\n",
    "        self.date = \"date: \" + date\n",
    "        \n",
    "    @staticmethod\n",
    "    def now():\n",
    "        return Date(\"today\")\n",
    "        \n",
    "    def show(self):\n",
    "        print(self.date)\n",
    "        \n",
    "    @staticmethod\n",
    "    def yesterday(str):\n",
    "        y, m, d = str.split(\",\")\n",
    "        d = int(d)\n",
    "        d = d - 1\n",
    "        d = d + 48\n",
    "        return Date(y + \",\" + m + \", \" + chr(d))\n",
    "        \n",
    "        \n",
    "a = Date(\"2022, 4, 7\")\n",
    "a.show()\n",
    "b = Date.now()\n",
    "b.show() \n",
    "c = Date.yesterday(\"2022, 4, 7\")\n",
    "c.show()\n",
    "\n",
    "print(\"------------------------\")\n",
    "\n",
    "\n",
    "a = Date(\"2022, 4, 7\")\n",
    "a.show()\n",
    "b = Date.now()\n",
    "print(b.date)\n",
    "c = Date.yesterday(\"2022, 4, 7\")\n",
    "print(c.date)"
   ]
  },
  {
   "cell_type": "code",
   "execution_count": null,
   "id": "9baa2e08",
   "metadata": {},
   "outputs": [],
   "source": []
  }
 ],
 "metadata": {
  "kernelspec": {
   "display_name": "Python 3 (ipykernel)",
   "language": "python",
   "name": "python3"
  },
  "language_info": {
   "codemirror_mode": {
    "name": "ipython",
    "version": 3
   },
   "file_extension": ".py",
   "mimetype": "text/x-python",
   "name": "python",
   "nbconvert_exporter": "python",
   "pygments_lexer": "ipython3",
   "version": "3.9.13"
  }
 },
 "nbformat": 4,
 "nbformat_minor": 5
}
