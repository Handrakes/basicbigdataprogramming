{
 "cells": [
  {
   "cell_type": "code",
   "execution_count": 3,
   "id": "4f636825",
   "metadata": {},
   "outputs": [
    {
     "name": "stdout",
     "output_type": "stream",
     "text": [
      "23.45\n",
      "5.01\n",
      "889.00\n",
      "69.89\n"
     ]
    }
   ],
   "source": [
    "import re\n",
    "\n",
    "data = \"\"\"\n",
    "ABC01: $23.45 \n",
    "HGG42: $5.01 \n",
    "CFXE1: $889.00 \n",
    "XTC99: $69.89\n",
    "Total items found: 4 \n",
    "\"\"\"\n",
    "\n",
    "k = re.findall(r'\\$(\\d+(?:\\.\\d+)?)', data)\n",
    "for x in k:\n",
    "    print(x)"
   ]
  },
  {
   "cell_type": "code",
   "execution_count": 5,
   "id": "ce19d471",
   "metadata": {},
   "outputs": [
    {
     "name": "stdout",
     "output_type": "stream",
     "text": [
      "가격을 나타내는 숫자들\n",
      "30\n",
      "5\n",
      "수량을 나타내는 숫자들\n",
      "100\n",
      "50\n",
      "60\n"
     ]
    }
   ],
   "source": [
    "import re\n",
    "data = \"\"\"\n",
    "I paid $30 for 100 apples, 50 oranges, and 60 pears. I saved $5 on this order. \n",
    "\"\"\"\n",
    "\n",
    "withdollar = re.findall(r'\\$(\\d+)?',data)\n",
    "onlynumber = re.findall(r'(?<!\\$)\\d\\d+',data)\n",
    "#(?<!\\$) 이전에 $가 없을 것\n",
    "#\\b 숫자\n",
    "#(\\d+)\n",
    "\n",
    "\n",
    "print(\"가격을 나타내는 숫자들\")\n",
    "for a in withdollar:\n",
    "    print(a)\n",
    "print(\"수량을 나타내는 숫자들\")\n",
    "for b in onlynumber:\n",
    "    print(b)"
   ]
  },
  {
   "cell_type": "code",
   "execution_count": null,
   "id": "06e25ff1",
   "metadata": {},
   "outputs": [],
   "source": []
  }
 ],
 "metadata": {
  "kernelspec": {
   "display_name": "Python 3 (ipykernel)",
   "language": "python",
   "name": "python3"
  },
  "language_info": {
   "codemirror_mode": {
    "name": "ipython",
    "version": 3
   },
   "file_extension": ".py",
   "mimetype": "text/x-python",
   "name": "python",
   "nbconvert_exporter": "python",
   "pygments_lexer": "ipython3",
   "version": "3.9.16"
  }
 },
 "nbformat": 4,
 "nbformat_minor": 5
}
