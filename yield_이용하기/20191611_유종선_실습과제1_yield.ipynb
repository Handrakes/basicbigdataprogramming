{
 "cells": [
  {
   "cell_type": "code",
   "execution_count": 7,
   "id": "22a8bbe2",
   "metadata": {},
   "outputs": [
    {
     "name": "stdout",
     "output_type": "stream",
     "text": [
      "Writing year.py\n"
     ]
    }
   ],
   "source": [
    "%%writefile year.py\n",
    "import datetime \n",
    "\n",
    "def input_date():\n",
    "    year = int(input(\"년도를 입력하시오 : \"))\n",
    "    month = int(input(\"월을 입력하시오 : \"))\n",
    "    day = int(input(\"일을 입력하시오 : \"))\n",
    "    return year, month, day\n",
    "\n",
    "def get_day_name(year, month, day):\n",
    "    days = ['월요일', '화요일', '수요일', '목요일', '금요일','토요일','일요일']\n",
    "    date = days[datetime.date(year, month,day).weekday()]\n",
    "    return date\n",
    "    \n",
    "def is_leap(year):\n",
    "    if (year % 4 == 0) and (year % 100 != 0) or (year % 400 == 0):\n",
    "        return 1\n",
    "    else :\n",
    "        return 0\n",
    "\n",
    "if __name__ == \"__main__\":\n",
    "    year, month, day = input_date()\n",
    "    day_name = get_day_name(year, month, day)\n",
    "    print(day_name)\n",
    "    if is_leap(year) == 1:\n",
    "        print(\"입력하신 %s는 윤년입니다\" %year)"
   ]
  },
  {
   "cell_type": "markdown",
   "id": "45ac75f3",
   "metadata": {},
   "source": [
    "### "
   ]
  },
  {
   "cell_type": "code",
   "execution_count": 4,
   "id": "6c377d6b",
   "metadata": {},
   "outputs": [],
   "source": [
    "a=[1,2,3,4]\n",
    "b=[3,4,5,6]"
   ]
  },
  {
   "cell_type": "code",
   "execution_count": 5,
   "id": "aae07d76",
   "metadata": {},
   "outputs": [],
   "source": [
    "g = lambda x,y: x+y"
   ]
  },
  {
   "cell_type": "code",
   "execution_count": 6,
   "id": "5fb6078d",
   "metadata": {},
   "outputs": [
    {
     "data": {
      "text/plain": [
       "3"
      ]
     },
     "execution_count": 6,
     "metadata": {},
     "output_type": "execute_result"
    }
   ],
   "source": [
    "g(1,2)"
   ]
  },
  {
   "cell_type": "code",
   "execution_count": 10,
   "id": "1f29b839",
   "metadata": {},
   "outputs": [
    {
     "name": "stdout",
     "output_type": "stream",
     "text": [
      "년도를 입력하시오 : 2019\n",
      "월을 입력하시오 : 3\n",
      "일을 입력하시오 : 19\n",
      "화요일\n"
     ]
    }
   ],
   "source": [
    "%run year.py"
   ]
  },
  {
   "cell_type": "markdown",
   "id": "3b4ade75",
   "metadata": {},
   "source": []
  },
  {
   "cell_type": "code",
   "execution_count": 13,
   "id": "6139aa92",
   "metadata": {},
   "outputs": [
    {
     "name": "stdout",
     "output_type": "stream",
     "text": [
      "0 0\n",
      "1 1\n",
      "2 1\n",
      "3 2\n",
      "4 3\n",
      "5 5\n",
      "6 8\n",
      "7 13\n",
      "8 21\n",
      "9 34\n",
      "10 55\n",
      "11 89\n",
      "12 144\n",
      "13 233\n",
      "14 377\n",
      "15 610\n",
      "16 987\n",
      "17 1597\n",
      "18 2584\n",
      "19 4181\n"
     ]
    }
   ],
   "source": [
    "def Fibonacci():\n",
    "    a, b= 0,1\n",
    "    while 1:\n",
    "        yield a\n",
    "        a, b = b, a+b\n",
    "        \n",
    "for i, ret in enumerate(Fibonacci()):\n",
    "    if i < 20: print(i, ret)\n",
    "    else: break"
   ]
  },
  {
   "cell_type": "code",
   "execution_count": 14,
   "id": "4ea93fdb",
   "metadata": {},
   "outputs": [
    {
     "name": "stdout",
     "output_type": "stream",
     "text": [
      "Writing Fibonacci1.py\n"
     ]
    }
   ],
   "source": [
    "%%writefile Fibonacci1.py\n",
    "def Fibo_func(k):\n",
    "    a, b = 0 , 1\n",
    "    for i in range(k+1):\n",
    "        yield a\n",
    "        a, b = b, a+b\n",
    "        "
   ]
  },
  {
   "cell_type": "code",
   "execution_count": 15,
   "id": "e13b1d41",
   "metadata": {},
   "outputs": [],
   "source": [
    "import Fibonacci1\n",
    "fib = Fibonacci1.Fibo_func(7)"
   ]
  },
  {
   "cell_type": "code",
   "execution_count": 16,
   "id": "8705a17f",
   "metadata": {},
   "outputs": [
    {
     "name": "stdout",
     "output_type": "stream",
     "text": [
      "0\n",
      "1\n",
      "1\n",
      "2\n",
      "3\n",
      "5\n",
      "8\n",
      "13\n"
     ]
    }
   ],
   "source": [
    "for i in fib:\n",
    "    print(i)"
   ]
  },
  {
   "cell_type": "code",
   "execution_count": 17,
   "id": "16048f24",
   "metadata": {},
   "outputs": [
    {
     "data": {
      "text/plain": [
       "<generator object Fibo_func at 0x107efb740>"
      ]
     },
     "execution_count": 17,
     "metadata": {},
     "output_type": "execute_result"
    }
   ],
   "source": [
    "fib"
   ]
  },
  {
   "cell_type": "code",
   "execution_count": 18,
   "id": "56988791",
   "metadata": {},
   "outputs": [],
   "source": [
    "import Fibonacci1\n",
    "fib = Fibonacci1.Fibo_func(7)"
   ]
  },
  {
   "cell_type": "code",
   "execution_count": 19,
   "id": "b50081c2",
   "metadata": {},
   "outputs": [
    {
     "name": "stdout",
     "output_type": "stream",
     "text": [
      "0\n",
      "1\n",
      "1\n",
      "2\n",
      "3\n",
      "5\n",
      "8\n",
      "13\n"
     ]
    }
   ],
   "source": [
    "for a in fib:\n",
    "    print(a)"
   ]
  },
  {
   "cell_type": "code",
   "execution_count": 21,
   "id": "e0d6588b",
   "metadata": {},
   "outputs": [],
   "source": [
    "for b in fib:\n",
    "    print(10)"
   ]
  },
  {
   "cell_type": "code",
   "execution_count": 22,
   "id": "baf35b62",
   "metadata": {},
   "outputs": [],
   "source": [
    "import Fibonacci1\n",
    "fib = Fibonacci1.Fibo_func(10)"
   ]
  },
  {
   "cell_type": "code",
   "execution_count": 23,
   "id": "76f6e8ba",
   "metadata": {},
   "outputs": [
    {
     "name": "stdout",
     "output_type": "stream",
     "text": [
      "0\n",
      "1\n",
      "1\n",
      "2\n",
      "3\n",
      "5\n",
      "8\n",
      "13\n",
      "21\n",
      "34\n",
      "55\n"
     ]
    }
   ],
   "source": [
    "for a in fib:\n",
    "    print(a)"
   ]
  },
  {
   "cell_type": "code",
   "execution_count": 24,
   "id": "e27402e7",
   "metadata": {},
   "outputs": [],
   "source": [
    "%run Fibonacci1.py"
   ]
  },
  {
   "cell_type": "code",
   "execution_count": 25,
   "id": "72226d50",
   "metadata": {},
   "outputs": [],
   "source": [
    "import Fibonacci1\n",
    "fib = Fibonacci1.Fibo_func(10)"
   ]
  },
  {
   "cell_type": "code",
   "execution_count": 26,
   "id": "120d928b",
   "metadata": {},
   "outputs": [
    {
     "name": "stdout",
     "output_type": "stream",
     "text": [
      "0\n",
      "1\n",
      "1\n",
      "2\n",
      "3\n",
      "5\n",
      "8\n",
      "13\n",
      "21\n",
      "34\n",
      "55\n"
     ]
    }
   ],
   "source": [
    "for a in fib:\n",
    "    print(a)"
   ]
  },
  {
   "cell_type": "code",
   "execution_count": null,
   "id": "3a81d953",
   "metadata": {},
   "outputs": [],
   "source": []
  }
 ],
 "metadata": {
  "kernelspec": {
   "display_name": "Python 3 (ipykernel)",
   "language": "python",
   "name": "python3"
  },
  "language_info": {
   "codemirror_mode": {
    "name": "ipython",
    "version": 3
   },
   "file_extension": ".py",
   "mimetype": "text/x-python",
   "name": "python",
   "nbconvert_exporter": "python",
   "pygments_lexer": "ipython3",
   "version": "3.9.13"
  }
 },
 "nbformat": 4,
 "nbformat_minor": 5
}
