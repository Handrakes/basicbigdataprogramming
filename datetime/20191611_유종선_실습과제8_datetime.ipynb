{
 "cells": [
  {
   "cell_type": "code",
   "execution_count": 1,
   "id": "a0ed18f8",
   "metadata": {},
   "outputs": [
    {
     "name": "stdout",
     "output_type": "stream",
     "text": [
      "Overwriting W_2.py\n"
     ]
    }
   ],
   "source": [
    "%%writefile W_2.py\n",
    "import sys\n",
    "import datetime\n",
    "\n",
    "if __name__==\"__main__\":\n",
    "    days = ['월요일', '화요일','수요일','목요일','금요일','토요일','일요일']\n",
    "    year = int(sys.argv[1])\n",
    "    month = int(sys.argv[2])\n",
    "    day = int(sys.argv[3])\n",
    "    print(days[datetime.date(year, month, day).weekday()])"
   ]
  },
  {
   "cell_type": "code",
   "execution_count": 5,
   "id": "e5f41310",
   "metadata": {},
   "outputs": [
    {
     "name": "stdout",
     "output_type": "stream",
     "text": [
      "목요일\n"
     ]
    }
   ],
   "source": [
    "%run W_2.py 2023 5 4"
   ]
  },
  {
   "cell_type": "code",
   "execution_count": 6,
   "id": "a817cde5",
   "metadata": {},
   "outputs": [
    {
     "name": "stdout",
     "output_type": "stream",
     "text": [
      "화요일\n"
     ]
    }
   ],
   "source": [
    "%run W_2.py 2019 10 1"
   ]
  },
  {
   "cell_type": "code",
   "execution_count": 7,
   "id": "9918490c",
   "metadata": {},
   "outputs": [
    {
     "name": "stdout",
     "output_type": "stream",
     "text": [
      "월요일\n"
     ]
    }
   ],
   "source": [
    "%run W_2.py 2019 10 14"
   ]
  },
  {
   "cell_type": "code",
   "execution_count": null,
   "id": "b5edda2e",
   "metadata": {},
   "outputs": [],
   "source": []
  }
 ],
 "metadata": {
  "kernelspec": {
   "display_name": "Python 3 (ipykernel)",
   "language": "python",
   "name": "python3"
  },
  "language_info": {
   "codemirror_mode": {
    "name": "ipython",
    "version": 3
   },
   "file_extension": ".py",
   "mimetype": "text/x-python",
   "name": "python",
   "nbconvert_exporter": "python",
   "pygments_lexer": "ipython3",
   "version": "3.9.13"
  }
 },
 "nbformat": 4,
 "nbformat_minor": 5
}
