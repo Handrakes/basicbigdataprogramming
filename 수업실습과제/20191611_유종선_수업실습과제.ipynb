{
 "cells": [
  {
   "cell_type": "code",
   "execution_count": 1,
   "id": "0ba910bb",
   "metadata": {},
   "outputs": [
    {
     "name": "stdout",
     "output_type": "stream",
     "text": [
      "Writing readme.txt\n"
     ]
    }
   ],
   "source": [
    "%%writefile readme.txt\n",
    "80\n",
    "90\n",
    "100\n",
    "70\n",
    "60"
   ]
  },
  {
   "cell_type": "code",
   "execution_count": 3,
   "id": "e6f94bbd",
   "metadata": {},
   "outputs": [
    {
     "name": "stdout",
     "output_type": "stream",
     "text": [
      "/Users/handrakes/basicbigdata\n"
     ]
    }
   ],
   "source": [
    "import os\n",
    "print(os.getcwd())"
   ]
  },
  {
   "cell_type": "code",
   "execution_count": 11,
   "id": "32db4f65",
   "metadata": {},
   "outputs": [
    {
     "name": "stdout",
     "output_type": "stream",
     "text": [
      "['80', '90', '100', '70', '60']\n"
     ]
    }
   ],
   "source": [
    "f = open(\"/Users/handrakes/basicbigdata/readme.txt\")\n",
    "lines = f.readlines()\n",
    "a = list()\n",
    "for line in lines:\n",
    "    tmp = line.strip()\n",
    "    a.append(tmp)\n",
    "    \n",
    "print(a)"
   ]
  },
  {
   "cell_type": "code",
   "execution_count": null,
   "id": "9d964adb",
   "metadata": {},
   "outputs": [],
   "source": []
  }
 ],
 "metadata": {
  "kernelspec": {
   "display_name": "Python 3 (ipykernel)",
   "language": "python",
   "name": "python3"
  },
  "language_info": {
   "codemirror_mode": {
    "name": "ipython",
    "version": 3
   },
   "file_extension": ".py",
   "mimetype": "text/x-python",
   "name": "python",
   "nbconvert_exporter": "python",
   "pygments_lexer": "ipython3",
   "version": "3.9.16"
  }
 },
 "nbformat": 4,
 "nbformat_minor": 5
}
