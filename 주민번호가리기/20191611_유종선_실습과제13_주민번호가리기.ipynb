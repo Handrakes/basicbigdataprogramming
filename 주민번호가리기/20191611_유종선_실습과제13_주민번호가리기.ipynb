{
 "cells": [
  {
   "cell_type": "code",
   "execution_count": 26,
   "id": "a52dfbed",
   "metadata": {},
   "outputs": [],
   "source": [
    "data = '''park sunje 890901-1074422\n",
    "kim sunhee 990103-2079912'''\n"
   ]
  },
  {
   "cell_type": "code",
   "execution_count": 22,
   "id": "bb72f48d",
   "metadata": {},
   "outputs": [
    {
     "name": "stdout",
     "output_type": "stream",
     "text": [
      "park sunje 890901-1074422\n",
      "kim sunhee 990103-2079912\n"
     ]
    }
   ],
   "source": [
    "print(data)"
   ]
  },
  {
   "cell_type": "code",
   "execution_count": 65,
   "id": "f1ffa923",
   "metadata": {},
   "outputs": [
    {
     "name": "stdout",
     "output_type": "stream",
     "text": [
      "park sunje 남 890901-*******\n",
      "kim sunhee 여 990103-*******"
     ]
    }
   ],
   "source": [
    "x = list(data)\n",
    "flag = list()\n",
    "\n",
    "for i in range(len(x)):\n",
    "    if(x[i] == \"-\"):\n",
    "        k = i+1\n",
    "        flag.append(x[i+1])\n",
    "        for k in range(k, k+7):\n",
    "            x[k] = \"*\"\n",
    "            \n",
    "            \n",
    "count = 0\n",
    "flag_count = 0\n",
    "for a in range(len(x)):\n",
    "    if(x[a] == \" \"):\n",
    "        count += 1\n",
    "        if(count == 2):\n",
    "            if(flag[flag_count] == '1' or flag[flag_count] == '3'):\n",
    "                x.insert(a+1, '남 ')\n",
    "            elif(flag[flag_count] == '2' or flag[flag_count] == '4'):\n",
    "                x.insert(a+1, '여 ')\n",
    "            else:\n",
    "                continue    \n",
    "            count = 0\n",
    "            flag_count += 1\n",
    "\n",
    "for t in range(len(x)):\n",
    "    print(x[t], end = \"\")\n",
    "    "
   ]
  },
  {
   "cell_type": "code",
   "execution_count": 68,
   "id": "3ff45e3f",
   "metadata": {},
   "outputs": [
    {
     "name": "stdout",
     "output_type": "stream",
     "text": [
      "Overwriting Testdata.txt\n"
     ]
    }
   ],
   "source": [
    "%%writefile Testdata.txt\n",
    "홍길동 560922-1089123 02-705-8491\n",
    "홍길동 560922-1089123 042-7052-8491\n",
    "김바한솔 911212-1089123 042-705-8491\n",
    "김연찬 920922-1089123 031-7054-8491"
   ]
  },
  {
   "cell_type": "code",
   "execution_count": 67,
   "id": "9f8fda6e",
   "metadata": {},
   "outputs": [
    {
     "name": "stdout",
     "output_type": "stream",
     "text": [
      "홍길동 560922-******* 02-705-8491 여\n",
      "홍길동 560922-******* 042-7052-8491 남\n",
      "김바한솔 911212-******* 042-705-8491 남\n",
      "김연찬 920922-******* 031-7054-8491 남\n"
     ]
    }
   ],
   "source": [
    "f = open(\"Testdata.txt\")\n",
    "lines = f.readlines()\n",
    "result = []\n",
    "flag = \"a\"\n",
    "for line in lines:\n",
    "    tmp = list(line)\n",
    "    for i in range(len(line)):\n",
    "        if(tmp[i] == \"-\"):\n",
    "            k = i+1\n",
    "            flag = tmp[i+1]\n",
    "            if(flag == '1' or flag == '3'): #남자\n",
    "                tmp[len(line)-1] = \" 남\\n\"\n",
    "            else: #여자\n",
    "                tmp[len(line)-1] = \" 여\\n\"\n",
    "            for k in range(k, k+7):\n",
    "                tmp[k] = \"*\"\n",
    "            break     \n",
    "    result.append(tmp)\n",
    "    \n",
    "for a in range(len(result)):\n",
    "    for b in range(len(result[a])):\n",
    "        print(result[a][b], end = \"\")"
   ]
  },
  {
   "cell_type": "code",
   "execution_count": null,
   "id": "b824d9fe",
   "metadata": {},
   "outputs": [],
   "source": []
  }
 ],
 "metadata": {
  "kernelspec": {
   "display_name": "Python 3 (ipykernel)",
   "language": "python",
   "name": "python3"
  },
  "language_info": {
   "codemirror_mode": {
    "name": "ipython",
    "version": 3
   },
   "file_extension": ".py",
   "mimetype": "text/x-python",
   "name": "python",
   "nbconvert_exporter": "python",
   "pygments_lexer": "ipython3",
   "version": "3.9.16"
  }
 },
 "nbformat": 4,
 "nbformat_minor": 5
}
