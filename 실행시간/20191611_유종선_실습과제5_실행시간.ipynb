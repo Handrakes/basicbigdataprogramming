{
 "cells": [
  {
   "cell_type": "code",
   "execution_count": 1,
   "id": "df8693da",
   "metadata": {},
   "outputs": [],
   "source": [
    "class Account:\n",
    "    num_accounts = 0\n",
    "    def __init__(self, name):\n",
    "        self.name = name\n",
    "        Account.num_accounts += 1\n",
    "    def __del__(self):\n",
    "        Account.num_accounts -= 1"
   ]
  },
  {
   "cell_type": "code",
   "execution_count": 2,
   "id": "7cfb04f4",
   "metadata": {},
   "outputs": [
    {
     "data": {
      "text/plain": [
       "'kim'"
      ]
     },
     "execution_count": 2,
     "metadata": {},
     "output_type": "execute_result"
    }
   ],
   "source": [
    "kim = Account(\"kim\")\n",
    "kim.name"
   ]
  },
  {
   "cell_type": "code",
   "execution_count": 3,
   "id": "b3fbfb7d",
   "metadata": {},
   "outputs": [
    {
     "data": {
      "text/plain": [
       "1"
      ]
     },
     "execution_count": 3,
     "metadata": {},
     "output_type": "execute_result"
    }
   ],
   "source": [
    "kim.num_accounts"
   ]
  },
  {
   "cell_type": "code",
   "execution_count": 4,
   "id": "63dba0aa",
   "metadata": {},
   "outputs": [
    {
     "data": {
      "text/plain": [
       "1"
      ]
     },
     "execution_count": 4,
     "metadata": {},
     "output_type": "execute_result"
    }
   ],
   "source": [
    "kim.num_accounts"
   ]
  },
  {
   "cell_type": "code",
   "execution_count": 5,
   "id": "1ed04bee",
   "metadata": {},
   "outputs": [],
   "source": [
    "lee = Account(\"lee\")"
   ]
  },
  {
   "cell_type": "code",
   "execution_count": 6,
   "id": "e6d57f72",
   "metadata": {},
   "outputs": [
    {
     "data": {
      "text/plain": [
       "'lee'"
      ]
     },
     "execution_count": 6,
     "metadata": {},
     "output_type": "execute_result"
    }
   ],
   "source": [
    "lee.name"
   ]
  },
  {
   "cell_type": "code",
   "execution_count": 7,
   "id": "c78fc2d9",
   "metadata": {},
   "outputs": [
    {
     "data": {
      "text/plain": [
       "2"
      ]
     },
     "execution_count": 7,
     "metadata": {},
     "output_type": "execute_result"
    }
   ],
   "source": [
    "lee.num_accounts"
   ]
  },
  {
   "cell_type": "code",
   "execution_count": 8,
   "id": "d1517be6",
   "metadata": {},
   "outputs": [
    {
     "data": {
      "text/plain": [
       "2"
      ]
     },
     "execution_count": 8,
     "metadata": {},
     "output_type": "execute_result"
    }
   ],
   "source": [
    "kim.num_accounts"
   ]
  },
  {
   "cell_type": "code",
   "execution_count": 10,
   "id": "15616727",
   "metadata": {},
   "outputs": [
    {
     "name": "stdout",
     "output_type": "stream",
     "text": [
      "2000\n",
      "0\n"
     ]
    },
    {
     "ename": "AttributeError",
     "evalue": "'Car' object has no attribute '__color'",
     "output_type": "error",
     "traceback": [
      "\u001b[0;31m---------------------------------------------------------------------------\u001b[0m",
      "\u001b[0;31mAttributeError\u001b[0m                            Traceback (most recent call last)",
      "Input \u001b[0;32mIn [10]\u001b[0m, in \u001b[0;36m<cell line: 7>\u001b[0;34m()\u001b[0m\n\u001b[1;32m      9\u001b[0m \u001b[38;5;28mprint\u001b[39m(my_car\u001b[38;5;241m.\u001b[39mprice)\n\u001b[1;32m     10\u001b[0m \u001b[38;5;28mprint\u001b[39m(my_car\u001b[38;5;241m.\u001b[39m_speed)\n\u001b[0;32m---> 11\u001b[0m \u001b[38;5;28mprint\u001b[39m(\u001b[43mmy_car\u001b[49m\u001b[38;5;241;43m.\u001b[39;49m\u001b[43m__color\u001b[49m)\n",
      "\u001b[0;31mAttributeError\u001b[0m: 'Car' object has no attribute '__color'"
     ]
    }
   ],
   "source": [
    "class Car:\n",
    "    def __init__(self):\n",
    "        self.price = 2000\n",
    "        self._speed = 0\n",
    "        self.__color = \"red\"\n",
    "        \n",
    "if __name__ == \"__main__\":\n",
    "    my_car = Car()\n",
    "    print(my_car.price)\n",
    "    print(my_car._speed)\n",
    "    print(my_car.__color)"
   ]
  },
  {
   "cell_type": "code",
   "execution_count": 20,
   "id": "059574c0",
   "metadata": {},
   "outputs": [
    {
     "name": "stdout",
     "output_type": "stream",
     "text": [
      "2000\n"
     ]
    }
   ],
   "source": [
    "class Car:\n",
    "    def __init__(self):\n",
    "        self._price = 0 \n",
    "        self._speed = 0\n",
    "        self._color = None\n",
    "    \n",
    "    @property\n",
    "    def prices(self):\n",
    "        return self._price\n",
    "    \n",
    "    @prices.setter\n",
    "    def prices(self, value):\n",
    "        self._price = value\n",
    "        \n",
    "if __name__ == \"__main__\":\n",
    "    my_car = Car()\n",
    "    my_car.prices = 2000\n",
    "    print(my_car.prices)"
   ]
  },
  {
   "cell_type": "code",
   "execution_count": 1,
   "id": "cc77efc2",
   "metadata": {},
   "outputs": [
    {
     "name": "stdout",
     "output_type": "stream",
     "text": [
      "hello 함수 시작\n",
      "hello\n",
      "hello 함수 끝\n",
      "world 함수 시작\n",
      "world\n",
      "world 함수 끝\n"
     ]
    }
   ],
   "source": [
    "def trace(func):                             # 호출할 함수를 매개변수로 받음\n",
    "    def wrapper():                           # 호출할 함수를 감싸는 함수\n",
    "        print(func.__name__, '함수 시작')    # __name__으로 함수 이름 출력\n",
    "        func()                               # 매개변수로 받은 함수를 호출\n",
    "        print(func.__name__, '함수 끝')\n",
    "    return wrapper                           # wrapper 함수 반환\n",
    " \n",
    "def hello():\n",
    "    print('hello')\n",
    " \n",
    "def world():\n",
    "    print('world')\n",
    " \n",
    "trace_hello = trace(hello)    # 데코레이터에 호출할 함수를 넣음\n",
    "trace_hello()                 # 반환된 함수를 호출\n",
    "trace_world = trace(world)    # 데코레이터에 호출할 함수를 넣음\n",
    "trace_world()                 # 반환된 함수를 호출"
   ]
  },
  {
   "cell_type": "code",
   "execution_count": 2,
   "id": "26d2318c",
   "metadata": {},
   "outputs": [],
   "source": [
    "class Account:\n",
    "    num_accounts = 0\n",
    "    def __init__(self, name):\n",
    "        self.name = name\n",
    "        Account.num_accounts += 1\n",
    "    def __del__(self):\n",
    "        Account.num_accounts -= 1\n",
    "        "
   ]
  },
  {
   "cell_type": "code",
   "execution_count": 3,
   "id": "8842b186",
   "metadata": {},
   "outputs": [],
   "source": [
    "kim = Account(\"kim\")"
   ]
  },
  {
   "cell_type": "code",
   "execution_count": 4,
   "id": "85a64267",
   "metadata": {},
   "outputs": [
    {
     "data": {
      "text/plain": [
       "'kim'"
      ]
     },
     "execution_count": 4,
     "metadata": {},
     "output_type": "execute_result"
    }
   ],
   "source": [
    "kim.name"
   ]
  },
  {
   "cell_type": "code",
   "execution_count": 5,
   "id": "c81c9c77",
   "metadata": {},
   "outputs": [
    {
     "data": {
      "text/plain": [
       "1"
      ]
     },
     "execution_count": 5,
     "metadata": {},
     "output_type": "execute_result"
    }
   ],
   "source": [
    "kim.num_accounts\n"
   ]
  },
  {
   "cell_type": "code",
   "execution_count": 6,
   "id": "0911d5ed",
   "metadata": {},
   "outputs": [],
   "source": [
    "lee = Account(\"lee\")"
   ]
  },
  {
   "cell_type": "code",
   "execution_count": 7,
   "id": "767d80f9",
   "metadata": {},
   "outputs": [
    {
     "data": {
      "text/plain": [
       "'lee'"
      ]
     },
     "execution_count": 7,
     "metadata": {},
     "output_type": "execute_result"
    }
   ],
   "source": [
    "lee.name"
   ]
  },
  {
   "cell_type": "code",
   "execution_count": 8,
   "id": "6d88feec",
   "metadata": {},
   "outputs": [
    {
     "data": {
      "text/plain": [
       "2"
      ]
     },
     "execution_count": 8,
     "metadata": {},
     "output_type": "execute_result"
    }
   ],
   "source": [
    "lee.num_accounts"
   ]
  },
  {
   "cell_type": "code",
   "execution_count": 9,
   "id": "ba02c052",
   "metadata": {},
   "outputs": [],
   "source": [
    "del kim"
   ]
  },
  {
   "cell_type": "code",
   "execution_count": 10,
   "id": "00f55f8e",
   "metadata": {},
   "outputs": [
    {
     "ename": "NameError",
     "evalue": "name 'kim' is not defined",
     "output_type": "error",
     "traceback": [
      "\u001b[0;31m---------------------------------------------------------------------------\u001b[0m",
      "\u001b[0;31mNameError\u001b[0m                                 Traceback (most recent call last)",
      "Input \u001b[0;32mIn [10]\u001b[0m, in \u001b[0;36m<cell line: 1>\u001b[0;34m()\u001b[0m\n\u001b[0;32m----> 1\u001b[0m \u001b[43mkim\u001b[49m\u001b[38;5;241m.\u001b[39mnum_accounts\n",
      "\u001b[0;31mNameError\u001b[0m: name 'kim' is not defined"
     ]
    }
   ],
   "source": [
    "kim.num_accounts"
   ]
  },
  {
   "cell_type": "code",
   "execution_count": 11,
   "id": "ec6de438",
   "metadata": {},
   "outputs": [
    {
     "data": {
      "text/plain": [
       "1"
      ]
     },
     "execution_count": 11,
     "metadata": {},
     "output_type": "execute_result"
    }
   ],
   "source": [
    "lee.num_accounts"
   ]
  },
  {
   "cell_type": "code",
   "execution_count": 37,
   "id": "37d04f5e",
   "metadata": {},
   "outputs": [
    {
     "name": "stdout",
     "output_type": "stream",
     "text": [
      "Initializing Verbose. \n",
      "Program start\n",
      "\n",
      "Begin my_function\n",
      "hello, Mickey!\n",
      "End my_function \n",
      "\n",
      "Begin my_function\n",
      "hello, Minnie!\n",
      "End my_function \n",
      "\n",
      "Begin my_function\n",
      "hello, Donald!\n",
      "End my_function \n",
      "\n"
     ]
    }
   ],
   "source": [
    "class verbose:\n",
    "    def __init__(self, func):\n",
    "        print(\"Initializing Verbose. \")\n",
    "        self.func = func\n",
    "        \n",
    "    def __call__(self, name):\n",
    "        print(\"Begin\", self.func.__name__)\n",
    "        self.func(name)\n",
    "        print(\"End\", self.func.__name__, \"\\n\")\n",
    "\n",
    "@verbose\n",
    "def my_function(name):\n",
    "    print(\"hello, \" + name + \"!\")\n",
    "    \n",
    "\n",
    "print(\"Program start\\n\")\n",
    "my_function(\"Mickey\")\n",
    "my_function(\"Minnie\")\n",
    "my_function(\"Donald\")\n"
   ]
  },
  {
   "cell_type": "code",
   "execution_count": 38,
   "id": "c3e22700",
   "metadata": {},
   "outputs": [
    {
     "name": "stdout",
     "output_type": "stream",
     "text": [
      "\n",
      "Begin my_function\n",
      "hahahahahahaha\n",
      "End my_function\n"
     ]
    }
   ],
   "source": [
    "def check(func):\n",
    "    def new_func():\n",
    "        print(\"\\nBegin\", func.__name__)\n",
    "        func()\n",
    "        print(\"End\", func.__name__)\n",
    "    return new_func\n",
    "\n",
    "@check\n",
    "def my_function():\n",
    "    print(\"hahahahahahaha\")\n",
    "    \n",
    "my_function()"
   ]
  },
  {
   "cell_type": "code",
   "execution_count": 68,
   "id": "0f6c5b61",
   "metadata": {},
   "outputs": [
    {
     "name": "stdout",
     "output_type": "stream",
     "text": [
      "[2023-04-04 17:36]\n",
      "0 1 2 3 4 5 6 7 8 9 10 11 12 13 14 15 16 17 18 19 20 21 22 23 24 25 26 27 28 29 30 31 32 33 34 35 36 37 38 39 40 41 42 43 44 45 46 47 48 49 50 51 52 53 54 55 56 57 58 59 60 61 62 63 64 65 66 67 68 69 70 71 72 73 74 75 76 77 78 79 80 81 82 83 84 85 86 87 88 89 90 91 92 93 94 95 96 97 98 99 100 \n",
      "\n",
      "실행시간은: 0.00114321708679199219\n",
      "-----------------------------------\n",
      "[2023-04-04 17:36]\n",
      "101  102  103  104  105  106  107  108  109  110  111  112  113  114  115  116  117  118  119  120  121  122  123  124  125  126  127  128  129  130  131  132  133  134  135  136  137  138  139  140  141  142  143  144  145  146  147  148  149  150  151  152  153  154  155  156  157  158  159  160  161  162  163  164  165  166  167  168  169  170  171  172  173  174  175  176  177  178  179  180  181  182  183  184  185  186  187  188  189  190  191  192  193  194  195  196  197  198  199  200  201  202  \n",
      "\n",
      "실행시간은: 0.00059103965759277344\n"
     ]
    }
   ],
   "source": [
    "from datetime import datetime\n",
    "import time\n",
    "\n",
    "def checkTime(func):\n",
    "    def check(*args, **kwargs):\n",
    "        start = time.time()\n",
    "        print(datetime.now().strftime('[%Y-%m-%d %H:%M]'))\n",
    "        func(*args, **kwargs)\n",
    "        end = time.time()\n",
    "        print(\"실행시간은: \" + f\"{end - start:.20f}\")\n",
    "    return check\n",
    "\n",
    "@checkTime\n",
    "def aFunc():\n",
    "    for i in range(101):\n",
    "        print(\"%d\" %(i), end = \" \")\n",
    "    print('\\n')\n",
    "    \n",
    "@checkTime\n",
    "def bFunc(a, b):\n",
    "    for i in range(a, b+1):\n",
    "        print(\"%d \" %(i), end = \" \")\n",
    "    print(\"\\n\")\n",
    "    \n",
    "aFunc()\n",
    "print(\"-----------------------------------\")\n",
    "bFunc(101, 202)"
   ]
  },
  {
   "cell_type": "code",
   "execution_count": 1,
   "id": "da136c9f",
   "metadata": {},
   "outputs": [
    {
     "name": "stdout",
     "output_type": "stream",
     "text": [
      "Initializing Verbose. \n",
      "Program start\n",
      "\n",
      "Begin my_function\n",
      "hello, Mickey!\n",
      "End my_function \n",
      "\n",
      "Begin my_function\n",
      "hello, Minnie!\n",
      "End my_function \n",
      "\n",
      "Begin my_function\n",
      "hello, Donald!\n",
      "End my_function \n",
      "\n"
     ]
    }
   ],
   "source": [
    "class verbose:\n",
    "    def __init__(self, func):\n",
    "        print(\"Initializing Verbose. \")\n",
    "        self.func = func\n",
    "        \n",
    "    def __call__(self, name):\n",
    "        print(\"Begin\", self.func.__name__)\n",
    "        self.func(name)\n",
    "        print(\"End\", self.func.__name__, \"\\n\")\n",
    "\n",
    "@verbose\n",
    "def my_function(name):\n",
    "    print(\"hello, \" + name + \"!\")\n",
    "    \n",
    "\n",
    "print(\"Program start\\n\")\n",
    "my_function(\"Mickey\")\n",
    "my_function(\"Minnie\")\n",
    "my_function(\"Donald\")"
   ]
  },
  {
   "cell_type": "code",
   "execution_count": 9,
   "id": "593502e5",
   "metadata": {},
   "outputs": [
    {
     "name": "stdout",
     "output_type": "stream",
     "text": [
      "[2023-04-11 12:12]\n",
      "0 1 2 3 4 5 6 7 8 9 10 11 12 13 14 15 16 17 18 19 20 21 22 23 24 25 26 27 28 29 30 31 32 33 34 35 36 37 38 39 40 41 42 43 44 45 46 47 48 49 50 51 52 53 54 55 56 57 58 59 60 61 62 63 64 65 66 67 68 69 70 71 72 73 74 75 76 77 78 79 80 81 82 83 84 85 86 87 88 89 90 91 92 93 94 95 96 97 98 99 100  \n",
      "실행시간은: 0.00073289871215820312\n",
      "-----------------------------------\n",
      "[2023-04-11 12:12]\n",
      "101  102  103  104  105  106  107  108  109  110  111  112  113  114  115  116  117  118  119  120  121  122  123  124  125  126  127  128  129  130  131  132  133  134  135  136  137  138  139  140  141  142  143  144  145  146  147  148  149  150  151  152  153  154  155  156  157  158  159  160  161  162  163  164  165  166  167  168  169  170  171  172  173  174  175  176  177  178  179  180  181  182  183  184  185  186  187  188  189  190  191  192  193  194  195  196  197  198  199  200  201  202   \n",
      "실행시간은: 0.00058484077453613281\n"
     ]
    }
   ],
   "source": [
    "from datetime import datetime\n",
    "import time\n",
    "\n",
    "def checkTime(func):\n",
    "    def check(*args, **kwargs):\n",
    "        start = time.time()\n",
    "        print(datetime.now().strftime('[%Y-%m-%d %H:%M]'))\n",
    "        func(*args, **kwargs)\n",
    "        end = time.time()\n",
    "        print(\"실행시간은: \" + f\"{end - start:.20f}\")\n",
    "    return check\n",
    "\n",
    "@checkTime\n",
    "def aFunc():\n",
    "    for i in range(101):\n",
    "        print(i, end = \" \")\n",
    "    print(' ')\n",
    "    \n",
    "@checkTime\n",
    "def bFunc(a, b):\n",
    "    for i in range(a, b+1):\n",
    "        print(\"%d \" %(i), end = \" \")\n",
    "    print(\" \")\n",
    "    \n",
    "aFunc()\n",
    "print(\"-----------------------------------\")\n",
    "bFunc(101, 202)"
   ]
  },
  {
   "cell_type": "code",
   "execution_count": null,
   "id": "b4a7cbf7",
   "metadata": {},
   "outputs": [],
   "source": []
  }
 ],
 "metadata": {
  "kernelspec": {
   "display_name": "Python 3 (ipykernel)",
   "language": "python",
   "name": "python3"
  },
  "language_info": {
   "codemirror_mode": {
    "name": "ipython",
    "version": 3
   },
   "file_extension": ".py",
   "mimetype": "text/x-python",
   "name": "python",
   "nbconvert_exporter": "python",
   "pygments_lexer": "ipython3",
   "version": "3.9.13"
  }
 },
 "nbformat": 4,
 "nbformat_minor": 5
}
