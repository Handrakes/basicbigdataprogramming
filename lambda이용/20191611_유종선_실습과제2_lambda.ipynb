{
 "cells": [
  {
   "cell_type": "code",
   "execution_count": 3,
   "id": "bd639a94",
   "metadata": {},
   "outputs": [
    {
     "name": "stdout",
     "output_type": "stream",
     "text": [
      "28.26\n"
     ]
    }
   ],
   "source": [
    "if __name__ == \"__main__\":\n",
    "    circle_area = lambda radius, pi : pi * (radius **2)\n",
    "    \n",
    "    print(circle_area(3, 3.14))"
   ]
  },
  {
   "cell_type": "code",
   "execution_count": 4,
   "id": "49887ef7",
   "metadata": {},
   "outputs": [],
   "source": [
    "a = [1, 2, 3, 4]"
   ]
  },
  {
   "cell_type": "code",
   "execution_count": 5,
   "id": "06a2b542",
   "metadata": {},
   "outputs": [],
   "source": [
    "b = [11,12,13,14]"
   ]
  },
  {
   "cell_type": "code",
   "execution_count": 7,
   "id": "b545fcba",
   "metadata": {},
   "outputs": [
    {
     "data": {
      "text/plain": [
       "[11, 24, 39, 56]"
      ]
     },
     "execution_count": 7,
     "metadata": {},
     "output_type": "execute_result"
    }
   ],
   "source": [
    "list(map(lambda x, y : x * y, a, b))"
   ]
  },
  {
   "cell_type": "code",
   "execution_count": 8,
   "id": "f5bc6334",
   "metadata": {},
   "outputs": [],
   "source": [
    "tmp = lambda x, y : x** y"
   ]
  },
  {
   "cell_type": "code",
   "execution_count": 9,
   "id": "98feef36",
   "metadata": {},
   "outputs": [
    {
     "data": {
      "text/plain": [
       "8"
      ]
     },
     "execution_count": 9,
     "metadata": {},
     "output_type": "execute_result"
    }
   ],
   "source": [
    "tmp(2, 3)"
   ]
  },
  {
   "cell_type": "code",
   "execution_count": 10,
   "id": "accff4de",
   "metadata": {},
   "outputs": [
    {
     "name": "stdout",
     "output_type": "stream",
     "text": [
      "answer is : 9\n"
     ]
    }
   ],
   "source": [
    "a = tmp(3, 2)\n",
    "print(\"answer is : %d\" %a)"
   ]
  },
  {
   "cell_type": "code",
   "execution_count": 12,
   "id": "ea7252ba",
   "metadata": {},
   "outputs": [
    {
     "name": "stdout",
     "output_type": "stream",
     "text": [
      "hahahahah\n",
      "result :  28.3\n",
      "hahahahah\n",
      "resultsss :  28.26\n"
     ]
    }
   ],
   "source": [
    "def circle_area(radius, print_format):\n",
    "    area = 3.14 * (radius ** 2)\n",
    "    print(\"hahahahah\")\n",
    "    print_format(area)\n",
    "\n",
    "if __name__ == \"__main__\":\n",
    "    circle_area(3, lambda x : print(\"result : \", round(x,1))) ##함수를 인자로 넘길 수 있음\n",
    "    circle_area(3, lambda x : print(\"resultsss : \", round(x,2)))"
   ]
  },
  {
   "cell_type": "code",
   "execution_count": null,
   "id": "2dfea6a8",
   "metadata": {},
   "outputs": [],
   "source": [
    "import random\n",
    "while 1:\n",
    "    i = random.randint(0,5)\n",
    "    if i == 2:\n",
    "        print(\"it's done\")\n",
    "        break\n",
    "    print(i, end = \" \")\n",
    "    "
   ]
  },
  {
   "cell_type": "code",
   "execution_count": 12,
   "id": "0687ed45",
   "metadata": {},
   "outputs": [
    {
     "ename": "TypeError",
     "evalue": "'function' object is not iterable",
     "output_type": "error",
     "traceback": [
      "\u001b[0;31m---------------------------------------------------------------------------\u001b[0m",
      "\u001b[0;31mTypeError\u001b[0m                                 Traceback (most recent call last)",
      "Input \u001b[0;32mIn [12]\u001b[0m, in \u001b[0;36m<cell line: 4>\u001b[0;34m()\u001b[0m\n\u001b[1;32m      1\u001b[0m \u001b[38;5;28;01mimport\u001b[39;00m \u001b[38;5;21;01mrandom\u001b[39;00m\n\u001b[1;32m      3\u001b[0m \u001b[38;5;28;01mwhile\u001b[39;00m \u001b[38;5;241m1\u001b[39m:\n\u001b[0;32m----> 4\u001b[0m     i \u001b[38;5;241m=\u001b[39m \u001b[38;5;28;43miter\u001b[39;49m\u001b[43m(\u001b[49m\u001b[38;5;28;43;01mlambda\u001b[39;49;00m\u001b[43m \u001b[49m\u001b[43m:\u001b[49m\u001b[43m \u001b[49m\u001b[43mrandom\u001b[49m\u001b[38;5;241;43m.\u001b[39;49m\u001b[43mrandint\u001b[49m\u001b[43m(\u001b[49m\u001b[38;5;241;43m0\u001b[39;49m\u001b[43m,\u001b[49m\u001b[38;5;241;43m5\u001b[39;49m\u001b[43m)\u001b[49m\u001b[43m)\u001b[49m\n\u001b[1;32m      5\u001b[0m     \u001b[38;5;28;01mif\u001b[39;00m i \u001b[38;5;241m==\u001b[39m \u001b[38;5;241m2\u001b[39m:\n\u001b[1;32m      6\u001b[0m         \u001b[38;5;28mprint\u001b[39m(\u001b[38;5;124m\"\u001b[39m\u001b[38;5;124m^^\u001b[39m\u001b[38;5;124m\"\u001b[39m)\n",
      "\u001b[0;31mTypeError\u001b[0m: 'function' object is not iterable"
     ]
    }
   ],
   "source": [
    "import random\n",
    "\n",
    "while 1:\n",
    "    i = iter(lambda : random.randint(0,5))\n",
    "    if i == 2:\n",
    "        print(\"^^\")\n",
    "        break\n",
    "    else:\n",
    "        print(i, end = \" \")"
   ]
  },
  {
   "cell_type": "code",
   "execution_count": 8,
   "id": "8054243a",
   "metadata": {},
   "outputs": [
    {
     "name": "stdout",
     "output_type": "stream",
     "text": [
      "4 3 3 3 1 3 1 5 5 1 "
     ]
    }
   ],
   "source": [
    "import random\n",
    "\n",
    "for i in iter(lambda : random.randint(0,5), 2):\n",
    "    print(i, end = \" \")"
   ]
  },
  {
   "cell_type": "code",
   "execution_count": null,
   "id": "4fba23b2",
   "metadata": {},
   "outputs": [],
   "source": []
  }
 ],
 "metadata": {
  "kernelspec": {
   "display_name": "Python 3 (ipykernel)",
   "language": "python",
   "name": "python3"
  },
  "language_info": {
   "codemirror_mode": {
    "name": "ipython",
    "version": 3
   },
   "file_extension": ".py",
   "mimetype": "text/x-python",
   "name": "python",
   "nbconvert_exporter": "python",
   "pygments_lexer": "ipython3",
   "version": "3.9.13"
  }
 },
 "nbformat": 4,
 "nbformat_minor": 5
}
