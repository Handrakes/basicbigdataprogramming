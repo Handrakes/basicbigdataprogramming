{
 "cells": [
  {
   "cell_type": "code",
   "execution_count": 27,
   "id": "85ee0179",
   "metadata": {},
   "outputs": [
    {
     "name": "stdout",
     "output_type": "stream",
     "text": [
      "python list exe. time : 1.0736110210418701\n",
      "numpy ndarray exe. time : 0.016483068466186523\n",
      "numpy is in this example 65.13417227164244 faster\n"
     ]
    }
   ],
   "source": [
    "import math\n",
    "import time\n",
    "import numpy as np\n",
    "import random\n",
    "\n",
    "array_size = 10000000\n",
    "nd = np.random.random(array_size)\n",
    "\n",
    "list_size = 10000000\n",
    "lis = []\n",
    "\n",
    "for _ in range(list_size):\n",
    "    lis.append(random.random())\n",
    "    \n",
    "list_sum = 0\n",
    "\n",
    "start = time.time()\n",
    "for index, value in enumerate(lis):\n",
    "    list_sum += index\n",
    "end = time.time()\n",
    "\n",
    "start_np = time.time() \n",
    "index_sum = np.arange(array_size).sum()\n",
    "end_np = time.time()\n",
    "\n",
    "print(\"python list exe. time : \" + f\"{end - start}\")\n",
    "print(\"numpy ndarray exe. time : \" + f\"{end_np - start_np}\")\n",
    "print(\"numpy is in this example \" + \"%.14f\" %((end-start)/(end_np-start_np)) + \" faster\")"
   ]
  },
  {
   "cell_type": "code",
   "execution_count": null,
   "id": "b23cb22b",
   "metadata": {},
   "outputs": [],
   "source": []
  }
 ],
 "metadata": {
  "kernelspec": {
   "display_name": "Python 3 (ipykernel)",
   "language": "python",
   "name": "python3"
  },
  "language_info": {
   "codemirror_mode": {
    "name": "ipython",
    "version": 3
   },
   "file_extension": ".py",
   "mimetype": "text/x-python",
   "name": "python",
   "nbconvert_exporter": "python",
   "pygments_lexer": "ipython3",
   "version": "3.9.16"
  }
 },
 "nbformat": 4,
 "nbformat_minor": 5
}
