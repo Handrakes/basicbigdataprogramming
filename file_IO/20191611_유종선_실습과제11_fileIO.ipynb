{
 "cells": [
  {
   "cell_type": "code",
   "execution_count": 1,
   "id": "46a550e4",
   "metadata": {},
   "outputs": [
    {
     "name": "stdout",
     "output_type": "stream",
     "text": [
      "Overwriting ban_stu.txt\n"
     ]
    }
   ],
   "source": [
    "%%writefile ban_stu.txt\n",
    "2 Alice Paul David Bob\n",
    "4 Cindy Stella Bill\n",
    "1 Henry Jenny Jessica Erin Tim\n",
    "3 John Joe Tom"
   ]
  },
  {
   "cell_type": "code",
   "execution_count": 2,
   "id": "b3318f3a",
   "metadata": {},
   "outputs": [
    {
     "name": "stdout",
     "output_type": "stream",
     "text": [
      "{'2': ['Alice', 'Paul', 'David', 'Bob'], '4': ['Cindy', 'Stella', 'Bill'], '1': ['Henry', 'Jenny', 'Jessica', 'Erin', 'Tim'], '3': ['John', 'Joe', 'Tom']}\n"
     ]
    }
   ],
   "source": [
    "fp = open(\"ban_stu.txt\", \"rt\")\n",
    "dic = {}\n",
    "lines = fp.readlines()\n",
    "for line in lines:\n",
    "    line.strip()\n",
    "    k = line.split()\n",
    "    dic[k[0]] = k[1:]\n",
    "    \n",
    "\n",
    "print(dic)"
   ]
  },
  {
   "cell_type": "code",
   "execution_count": null,
   "id": "c78dcadb",
   "metadata": {},
   "outputs": [],
   "source": []
  }
 ],
 "metadata": {
  "kernelspec": {
   "display_name": "Python 3 (ipykernel)",
   "language": "python",
   "name": "python3"
  },
  "language_info": {
   "codemirror_mode": {
    "name": "ipython",
    "version": 3
   },
   "file_extension": ".py",
   "mimetype": "text/x-python",
   "name": "python",
   "nbconvert_exporter": "python",
   "pygments_lexer": "ipython3",
   "version": "3.9.13"
  }
 },
 "nbformat": 4,
 "nbformat_minor": 5
}
